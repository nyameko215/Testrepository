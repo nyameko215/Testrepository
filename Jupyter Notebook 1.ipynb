{
    "cells": [
        {
            "metadata": {},
            "cell_type": "markdown",
            "source": "#code testing"
        },
        {
            "metadata": {},
            "cell_type": "code",
            "source": "print(\"From IBM Waston Studio to the World\")",
            "execution_count": 1,
            "outputs": [
                {
                    "output_type": "stream",
                    "text": "From IBM Waston Studio to the World\n",
                    "name": "stdout"
                }
            ]
        },
        {
            "metadata": {},
            "cell_type": "code",
            "source": "print(\"Ndiyi Ghost\")",
            "execution_count": 2,
            "outputs": [
                {
                    "output_type": "stream",
                    "text": "Ndiyi Ghost\n",
                    "name": "stdout"
                }
            ]
        },
        {
            "metadata": {},
            "cell_type": "code",
            "source": "Ghost = \"ndingumjita njee \"",
            "execution_count": 15,
            "outputs": []
        },
        {
            "metadata": {},
            "cell_type": "code",
            "source": "Legend = \"ozipholeleyo\"",
            "execution_count": 16,
            "outputs": []
        },
        {
            "metadata": {},
            "cell_type": "code",
            "source": "Grandmaster = Ghost+Legend",
            "execution_count": 22,
            "outputs": []
        },
        {
            "metadata": {},
            "cell_type": "code",
            "source": "print(Grandmaster)",
            "execution_count": 23,
            "outputs": [
                {
                    "output_type": "stream",
                    "text": "ndingumjita njee ozipholeleyo\n",
                    "name": "stdout"
                }
            ]
        }
    ],
    "metadata": {
        "kernelspec": {
            "name": "python3",
            "display_name": "Python 3.10",
            "language": "python"
        },
        "language_info": {
            "name": "python",
            "version": "3.10.6",
            "mimetype": "text/x-python",
            "codemirror_mode": {
                "name": "ipython",
                "version": 3
            },
            "pygments_lexer": "ipython3",
            "nbconvert_exporter": "python",
            "file_extension": ".py"
        }
    },
    "nbformat": 4,
    "nbformat_minor": 1
}